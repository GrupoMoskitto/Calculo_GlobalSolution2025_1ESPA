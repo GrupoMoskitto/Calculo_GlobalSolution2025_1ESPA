{
 "cells": [
  {
   "cell_type": "markdown",
   "id": "85317b3e",
   "metadata": {},
   "source": [
    "# Monitoramento de Vazão de Água para Prevenção de Alagamentos\n",
    "\n",
    "Este projeto tem como objetivo apoiar a Defesa Civil na análise da vazão de água em uma área urbana sujeita a alagamentos. A função modela a taxa de entrada de água em uma bacia de contenção durante uma tempestade.\n",
    "\n",
    "**Foi escolha a função B:**\n",
    "$$f(t) = 600 \\cdot e^{0.15t} \\cdot \\sin(0.7t)$$\n",
    "\n",
    "Onde:\n",
    "\n",
    "- $f(t)$ é a vazão (em litros por minuto);\n",
    "- $t$ é o tempo (em minutos).\n",
    "\n",
    "Vamos realizar análises gráficas, derivadas, integrais e uma simulação de risco."
   ]
  },
  {
   "cell_type": "code",
   "execution_count": 1,
   "id": "91ba84ca",
   "metadata": {},
   "outputs": [
    {
     "name": "stdout",
     "output_type": "stream",
     "text": [
      "Defaulting to user installation because normal site-packages is not writeable\n",
      "Requirement already satisfied: numpy in c:\\users\\gabri\\appdata\\local\\packages\\pythonsoftwarefoundation.python.3.13_qbz5n2kfra8p0\\localcache\\local-packages\\python313\\site-packages (2.2.5)\n",
      "Requirement already satisfied: matplotlib in c:\\users\\gabri\\appdata\\local\\packages\\pythonsoftwarefoundation.python.3.13_qbz5n2kfra8p0\\localcache\\local-packages\\python313\\site-packages (3.10.3)\n",
      "Requirement already satisfied: sympy in c:\\users\\gabri\\appdata\\local\\packages\\pythonsoftwarefoundation.python.3.13_qbz5n2kfra8p0\\localcache\\local-packages\\python313\\site-packages (1.14.0)\n",
      "Requirement already satisfied: scipy in c:\\users\\gabri\\appdata\\local\\packages\\pythonsoftwarefoundation.python.3.13_qbz5n2kfra8p0\\localcache\\local-packages\\python313\\site-packages (1.15.2)\n",
      "Requirement already satisfied: contourpy>=1.0.1 in c:\\users\\gabri\\appdata\\local\\packages\\pythonsoftwarefoundation.python.3.13_qbz5n2kfra8p0\\localcache\\local-packages\\python313\\site-packages (from matplotlib) (1.3.2)\n",
      "Requirement already satisfied: cycler>=0.10 in c:\\users\\gabri\\appdata\\local\\packages\\pythonsoftwarefoundation.python.3.13_qbz5n2kfra8p0\\localcache\\local-packages\\python313\\site-packages (from matplotlib) (0.12.1)\n",
      "Requirement already satisfied: fonttools>=4.22.0 in c:\\users\\gabri\\appdata\\local\\packages\\pythonsoftwarefoundation.python.3.13_qbz5n2kfra8p0\\localcache\\local-packages\\python313\\site-packages (from matplotlib) (4.58.1)\n",
      "Requirement already satisfied: kiwisolver>=1.3.1 in c:\\users\\gabri\\appdata\\local\\packages\\pythonsoftwarefoundation.python.3.13_qbz5n2kfra8p0\\localcache\\local-packages\\python313\\site-packages (from matplotlib) (1.4.8)\n",
      "Requirement already satisfied: packaging>=20.0 in c:\\users\\gabri\\appdata\\local\\packages\\pythonsoftwarefoundation.python.3.13_qbz5n2kfra8p0\\localcache\\local-packages\\python313\\site-packages (from matplotlib) (24.2)\n",
      "Requirement already satisfied: pillow>=8 in c:\\users\\gabri\\appdata\\local\\packages\\pythonsoftwarefoundation.python.3.13_qbz5n2kfra8p0\\localcache\\local-packages\\python313\\site-packages (from matplotlib) (11.1.0)\n",
      "Requirement already satisfied: pyparsing>=2.3.1 in c:\\users\\gabri\\appdata\\local\\packages\\pythonsoftwarefoundation.python.3.13_qbz5n2kfra8p0\\localcache\\local-packages\\python313\\site-packages (from matplotlib) (3.2.3)\n",
      "Requirement already satisfied: python-dateutil>=2.7 in c:\\users\\gabri\\appdata\\local\\packages\\pythonsoftwarefoundation.python.3.13_qbz5n2kfra8p0\\localcache\\local-packages\\python313\\site-packages (from matplotlib) (2.9.0.post0)\n",
      "Requirement already satisfied: mpmath<1.4,>=1.1.0 in c:\\users\\gabri\\appdata\\local\\packages\\pythonsoftwarefoundation.python.3.13_qbz5n2kfra8p0\\localcache\\local-packages\\python313\\site-packages (from sympy) (1.3.0)\n",
      "Requirement already satisfied: six>=1.5 in c:\\users\\gabri\\appdata\\local\\packages\\pythonsoftwarefoundation.python.3.13_qbz5n2kfra8p0\\localcache\\local-packages\\python313\\site-packages (from python-dateutil>=2.7->matplotlib) (1.17.0)\n"
     ]
    },
    {
     "name": "stderr",
     "output_type": "stream",
     "text": [
      "\n",
      "[notice] A new release of pip is available: 25.0.1 -> 25.1.1\n",
      "[notice] To update, run: C:\\Users\\gabri\\AppData\\Local\\Microsoft\\WindowsApps\\PythonSoftwareFoundation.Python.3.13_qbz5n2kfra8p0\\python.exe -m pip install --upgrade pip\n"
     ]
    }
   ],
   "source": [
    "# Instalando bibliotecas (pelo gerenciador de pacotes pip)\n",
    "!pip install numpy matplotlib sympy scipy"
   ]
  },
  {
   "cell_type": "code",
   "execution_count": null,
   "id": "ffce440b",
   "metadata": {},
   "outputs": [],
   "source": [
    "# Importando bibliotecas\n",
    "import numpy as np\n",
    "import matplotlib.pyplot as plt\n",
    "from sympy import symbols, sin, exp, diff, lambdify\n",
    "from scipy.integrate import quad"
   ]
  },
  {
   "cell_type": "code",
   "execution_count": null,
   "id": "43bee7e8",
   "metadata": {},
   "outputs": [],
   "source": [
    "# Definindo a função simbólica e numérica\n",
    "t = symbols('t')\n",
    "f_sym = 600 * exp(0.15*t) * sin(0.7*t)\n",
    "f_lamb = lambdify(t, f_sym, modules=['numpy'])"
   ]
  },
  {
   "cell_type": "code",
   "execution_count": null,
   "id": "7c397625",
   "metadata": {},
   "outputs": [],
   "source": [
    "# Função para plotagem genérica\n",
    "def plot_function(func, t_vals, title, ylabel, label=None, axhline=None):\n",
    "    plt.figure(figsize=(10, 6))\n",
    "    plt.plot(t_vals, func(t_vals), label=label)\n",
    "    if axhline:\n",
    "        plt.axhline(y=axhline, color='r', linestyle='--', label='Limite Crítico')\n",
    "    plt.title(title)\n",
    "    plt.xlabel('Tempo (min)')\n",
    "    plt.ylabel(ylabel)\n",
    "    if label:\n",
    "        plt.legend()\n",
    "    plt.grid(True)\n",
    "    plt.show()\n",
    "\n",
    "# Definindo intervalo de tempo\n",
    "t_vals = np.linspace(0, 20, 1000)\n",
    "\n",
    "# Gráfico da vazão\n",
    "plot_function(f_lamb, t_vals, 'Vazão de Água durante a Tempestade', 'Vazão (L/min)', label='f(t)')"
   ]
  },
  {
   "cell_type": "markdown",
   "id": "5e610ca9",
   "metadata": {},
   "source": [
    "## Derivada em $t = 10$\n",
    "\n",
    "A derivada de $f(t)$ representa a **variação da vazão ao longo do tempo**.\n",
    "Se o valor da derivada for positivo em $t = 10$, a vazão está aumentando — o que pode indicar aumento do risco. Se for negativo, a vazão está diminuindo.\n",
    "O valor numérico obtido indica o ritmo dessa variação."
   ]
  },
  {
   "cell_type": "code",
   "execution_count": null,
   "id": "1b3afc3b",
   "metadata": {},
   "outputs": [],
   "source": [
    "# Cálculo da derivada em t=10\n",
    "valor_derivada_t10 = f_prime_lamb(10)\n",
    "print(f'Derivada em t=10: {valor_derivada_t10:.2f} L/min²')\n",
    "\n",
    "# Interpretação do resultado\n",
    "if valor_derivada_t10 > 0:\n",
    "    print('A vazão está aumentando em t=10 min, indicando possível aumento do risco de alagamento.')\n",
    "elif valor_derivada_t10 < 0:\n",
    "    print('A vazão está diminuindo em t=10 min, sugerindo uma redução do risco de alagamento.')\n",
    "else:\n",
    "    print('A vazão está estável em t=10 min (taxa de variação zero).')"
   ]
  },
  {
   "cell_type": "markdown",
   "id": "431eceb9",
   "metadata": {},
   "source": [
    "## Estimativa do Limite de $t$ quando $t \\to +\\infty$\n",
    "\n",
    "A função tem um termo exponencial crescente, $e^{0.15t}$, e um termo oscilatório (atingindo limites de positivos e negativos absolutos), $sin(0.7t)$. Sendo assim, um limite oscilante.\n",
    "\n",
    "**Conclusão**: O limite não existe, pois a função oscila com crescimento cada vez maior. Isso indica que a vazão pode crescer sem controle ao longo do tempo, o que representa risco de alagamento grave se não houver contenção."
   ]
  },
  {
   "cell_type": "code",
   "execution_count": null,
   "id": "7fcb3ef7",
   "metadata": {},
   "outputs": [],
   "source": [
    "# Derivada simbólica e numérica\n",
    "f_prime = diff(f_sym, t)\n",
    "f_prime_lamb = lambdify(t, f_prime, modules=['numpy'])\n",
    "valor_derivada_t10 = f_prime_lamb(10)\n",
    "print(f'Derivada em t=10: {valor_derivada_t10:.2f} L/min²')\n",
    "\n",
    "# Segunda derivada\n",
    "f_second = diff(f_sym, t, 2)\n",
    "f_second_lamb = lambdify(t, f_second, modules=['numpy'])\n",
    "\n",
    "# Gráficos da derivada e segunda derivada\n",
    "plot_function(f_prime_lamb, t_vals, 'Variação da Vazão', 'df/dt (L/min²)', label='f\\' (t)')\n",
    "plot_function(f_second_lamb, t_vals, 'Aceleração da Vazão', 'd²f/dt² (L/min³)', label='f\\'\\' (t)')\n",
    "\n",
    "# Verificação de alerta baseado na derivada\n",
    "if valor_derivada_t10 > 1000:\n",
    "    print('Alerta: Vazão aumentando rapidamente em t=10 min!')"
   ]
  },
  {
   "cell_type": "markdown",
   "id": "df47104b",
   "metadata": {},
   "source": [
    "O valor da derivada em $t=10$ é aproximadamente $n$ L/min². Isso indica que a vazão está aumentando ou caindo a esse ritmo naquele instante."
   ]
  },
  {
   "cell_type": "markdown",
   "id": "3778065c",
   "metadata": {},
   "source": [
    "\n",
    "## Volume acumulado de água (0 a 20 minutos)\n",
    "\n",
    "O valor da integral representa o volume total de água que entrou na bacia em 20 minutos.\n",
    "Se o volume ultrapassar a capacidade da bacia, ocorre alagamento.\n",
    "Esse resultado pode ser comparado com uma capacidade crítica hipotética, por exemplo, 8000 L.\n"
   ]
  },
  {
   "cell_type": "code",
   "execution_count": null,
   "id": "122c2689",
   "metadata": {},
   "outputs": [],
   "source": [
    "# Cálculo da integral definida para t=20 (apenas para exibição)\n",
    "integral_result, integral_error = quad(f_lamb, 0, 20)\n",
    "print(f'Volume acumulado (0 a 20 min): {integral_result:.2f} L (erro estimado: {integral_error:.2e})')\n",
    "\n",
    "# Simulação de volume acumulado e volume líquido com escoamento\n",
    "taxa_escoamento = 50  # L/min\n",
    "volume_acumulado = [quad(f_lamb, 0, t)[0] for t in t_vals]  # Calcula o volume acumulado para cada t\n",
    "volume_liquido = [vol - taxa_escoamento * t for vol, t in zip(volume_acumulado, t_vals)]  # Ajusta com escoamento\n",
    "\n",
    "# Gráfico do volume acumulado e líquido com escoamento\n",
    "plt.figure(figsize=(10, 6))\n",
    "plt.plot(t_vals, volume_acumulado, label='Volume Acumulado e Líquido')\n",
    "plt.axhline(y=8000, color='r', linestyle='--', label='Limite Crítico')\n",
    "plt.title('Volume Acumulado de Água e Líquido com Escoamento')\n",
    "plt.xlabel('Tempo (min)')\n",
    "plt.ylabel('Volume (L)')\n",
    "plt.legend()\n",
    "plt.grid(True)\n",
    "plt.show()"
   ]
  },
  {
   "cell_type": "markdown",
   "id": "09084b49",
   "metadata": {},
   "source": [
    "# Conclusão\n",
    "Foram obtidos os seguintes resultados:\n",
    "\n",
    "- **Gráfico dinâmico**: Mostrou que a vazão cresce rapidamente com o tempo, devido ao fator exponencial, com oscilações causadas pelo seno.\n",
    "\n",
    "- **Limite da função**: Não existe para $t \\to +\\infty$ devido ao crescimento exponencial e à oscilação contínua, o que indica risco crescente e instabilidade da vazão.\n",
    "\n",
    "- **Derivada em $t=10$**: Mostrou a taxa de variação da vazão naquele instante. Um valor positivo indica que a água estava entrando com velocidade crescente naquele momento.\n",
    "\n",
    "- **Integral definida de 0 a 20 minutos**: Representou o volume total de água acumulada no intervalo. Comparado com a capacidade da bacia (8000 L), conseguimos detectar se há risco de alagamento."
   ]
  }
 ],
 "metadata": {
  "kernelspec": {
   "display_name": "Python 3",
   "language": "python",
   "name": "python3"
  },
  "language_info": {
   "codemirror_mode": {
    "name": "ipython",
    "version": 3
   },
   "file_extension": ".py",
   "mimetype": "text/x-python",
   "name": "python",
   "nbconvert_exporter": "python",
   "pygments_lexer": "ipython3",
   "version": "3.13.3"
  }
 },
 "nbformat": 4,
 "nbformat_minor": 5
}
